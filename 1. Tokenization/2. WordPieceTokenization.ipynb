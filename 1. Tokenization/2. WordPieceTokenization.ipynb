{
 "cells": [
  {
   "cell_type": "code",
   "execution_count": 458,
   "metadata": {},
   "outputs": [],
   "source": [
    "# BPE tokenization\n",
    "text = \"students play soccer cat is playing with students\""
   ]
  },
  {
   "cell_type": "code",
   "execution_count": 459,
   "metadata": {},
   "outputs": [
    {
     "name": "stdout",
     "output_type": "stream",
     "text": [
      "word list: ['play', 'cat', 'is', 'soccer', 'playing', 'with', 'students']\n"
     ]
    }
   ],
   "source": [
    "wordList = list(set(text.split()))\n",
    "print(f'word list: {wordList}')"
   ]
  },
  {
   "cell_type": "code",
   "execution_count": 460,
   "metadata": {},
   "outputs": [
    {
     "name": "stdout",
     "output_type": "stream",
     "text": [
      "init corpus: {'students': 2, 'play': 1, 'soccer': 1, 'cat': 1, 'is': 1, 'playing': 1, 'with': 1}\n",
      "init splits: {'play': ['p', '##l', '##a', '##y'], 'cat': ['c', '##a', '##t'], 'is': ['i', '##s'], 'soccer': ['s', '##o', '##c', '##c', '##e', '##r'], 'playing': ['p', '##l', '##a', '##y', '##i', '##n', '##g'], 'with': ['w', '##i', '##t', '##h'], 'students': ['s', '##t', '##u', '##d', '##e', '##n', '##t', '##s']}\n",
      "init vocab: {'##o', '##l', '##c', '##t', '##i', '##g', '##s', '##e', '##h', '##d', '##y', '##u', '##a', '##n', '##r'}\n"
     ]
    }
   ],
   "source": [
    "corpus = {}\n",
    "for word in text.split():\n",
    "    cleaned_word = word.strip('.,!?').lower()\n",
    "    if cleaned_word in corpus:\n",
    "        corpus[cleaned_word] += 1\n",
    "    else:\n",
    "        corpus[cleaned_word] = 1\n",
    "print(f'init corpus: {corpus}')\n",
    "\n",
    "splits = {}\n",
    "vocab = set() \n",
    "for word in wordList:\n",
    "    _split = [word[0]]\n",
    "    for i in range(1, len(word)):\n",
    "        _split.append('##' +word[i])\n",
    "        vocab.add('##' + word[i])\n",
    "    splits[word] = _split\n",
    "print(f'init splits: {splits}')\n",
    "print(f'init vocab: {vocab}')"
   ]
  },
  {
   "cell_type": "code",
   "execution_count": 461,
   "metadata": {},
   "outputs": [
    {
     "name": "stdout",
     "output_type": "stream",
     "text": [
      "dict_values([['p', '##l', '##a', '##y'], ['c', '##a', '##t'], ['i', '##s'], ['s', '##o', '##c', '##c', '##e', '##r'], ['p', '##l', '##a', '##y', '##i', '##n', '##g'], ['w', '##i', '##t', '##h'], ['s', '##t', '##u', '##d', '##e', '##n', '##t', '##s']])\n"
     ]
    }
   ],
   "source": [
    "print(splits.values())"
   ]
  },
  {
   "cell_type": "code",
   "execution_count": 462,
   "metadata": {},
   "outputs": [
    {
     "data": {
      "text/plain": [
       "0.5"
      ]
     },
     "execution_count": 462,
     "metadata": {},
     "output_type": "execute_result"
    }
   ],
   "source": [
    "def Score(splits: list[list], key1, key2):\n",
    "    _countPair = 0\n",
    "    _count1 = 0\n",
    "    _count2 = 0\n",
    "    for split in splits:\n",
    "        index = 0\n",
    "        for index in range(len(split) - 1):\n",
    "            if split[index] == key1 and split[index+1] == key2:\n",
    "                _countPair += 1\n",
    "            if split[index] == key1:\n",
    "                _count1 += 1\n",
    "            if split[index] == key2:\n",
    "                _count2 += 1\n",
    "        _count1 += (split[-1] == key1)\n",
    "        _count2 += (split[-1] == key2)\n",
    "    \n",
    "    return _countPair / (_count1 * _count2)\n",
    "\n",
    "Score(list(splits.values()), 'p', '##l')"
   ]
  },
  {
   "cell_type": "code",
   "execution_count": 463,
   "metadata": {},
   "outputs": [],
   "source": [
    "def cleanHash(text):\n",
    "    pos = 0\n",
    "    while text[pos] == '#':\n",
    "        pos += 1\n",
    "    return text[pos:]\n",
    "        \n",
    "def combine_elements(lst, key1, key2):\n",
    "    result = []\n",
    "    i = 0\n",
    "    \n",
    "    while i < len(lst):\n",
    "        if i < len(lst) - 1 and lst[i] == key1 and lst[i+1] == key2:\n",
    "            result.append(key1 + cleanHash(key2))\n",
    "            i += 2\n",
    "        else:\n",
    "            result.append(lst[i])\n",
    "            i += 1\n",
    "    \n",
    "    return result\n"
   ]
  },
  {
   "cell_type": "code",
   "execution_count": 464,
   "metadata": {},
   "outputs": [
    {
     "name": "stdout",
     "output_type": "stream",
     "text": [
      "added: ##u-##d with score: 1.0\n",
      "updated splits {'play': ['p', '##l', '##a', '##y'], 'cat': ['c', '##a', '##t'], 'is': ['i', '##s'], 'soccer': ['s', '##o', '##c', '##c', '##e', '##r'], 'playing': ['p', '##l', '##a', '##y', '##i', '##n', '##g'], 'with': ['w', '##i', '##t', '##h'], 'students': ['s', '##t', '##ud', '##e', '##n', '##t', '##s']}\n",
      "added: p-##l with score: 0.5\n",
      "updated splits {'play': ['pl', '##a', '##y'], 'cat': ['c', '##a', '##t'], 'is': ['i', '##s'], 'soccer': ['s', '##o', '##c', '##c', '##e', '##r'], 'playing': ['pl', '##a', '##y', '##i', '##n', '##g'], 'with': ['w', '##i', '##t', '##h'], 'students': ['s', '##t', '##ud', '##e', '##n', '##t', '##s']}\n",
      "added: i-##s with score: 0.5\n",
      "updated splits {'play': ['pl', '##a', '##y'], 'cat': ['c', '##a', '##t'], 'is': ['is'], 'soccer': ['s', '##o', '##c', '##c', '##e', '##r'], 'playing': ['pl', '##a', '##y', '##i', '##n', '##g'], 'with': ['w', '##i', '##t', '##h'], 'students': ['s', '##t', '##ud', '##e', '##n', '##t', '##s']}\n",
      "added: s-##o with score: 0.5\n",
      "updated splits {'play': ['pl', '##a', '##y'], 'cat': ['c', '##a', '##t'], 'is': ['is'], 'soccer': ['so', '##c', '##c', '##e', '##r'], 'playing': ['pl', '##a', '##y', '##i', '##n', '##g'], 'with': ['w', '##i', '##t', '##h'], 'students': ['s', '##t', '##ud', '##e', '##n', '##t', '##s']}\n",
      "added: so-##c with score: 0.5\n",
      "updated splits {'play': ['pl', '##a', '##y'], 'cat': ['c', '##a', '##t'], 'is': ['is'], 'soccer': ['soc', '##c', '##e', '##r'], 'playing': ['pl', '##a', '##y', '##i', '##n', '##g'], 'with': ['w', '##i', '##t', '##h'], 'students': ['s', '##t', '##ud', '##e', '##n', '##t', '##s']}\n",
      "added: soc-##c with score: 1.0\n",
      "updated splits {'play': ['pl', '##a', '##y'], 'cat': ['c', '##a', '##t'], 'is': ['is'], 'soccer': ['socc', '##e', '##r'], 'playing': ['pl', '##a', '##y', '##i', '##n', '##g'], 'with': ['w', '##i', '##t', '##h'], 'students': ['s', '##t', '##ud', '##e', '##n', '##t', '##s']}\n",
      "added: socc-##e with score: 0.5\n",
      "updated splits {'play': ['pl', '##a', '##y'], 'cat': ['c', '##a', '##t'], 'is': ['is'], 'soccer': ['socce', '##r'], 'playing': ['pl', '##a', '##y', '##i', '##n', '##g'], 'with': ['w', '##i', '##t', '##h'], 'students': ['s', '##t', '##ud', '##e', '##n', '##t', '##s']}\n",
      "added: socce-##r with score: 1.0\n",
      "updated splits {'play': ['pl', '##a', '##y'], 'cat': ['c', '##a', '##t'], 'is': ['is'], 'soccer': ['soccer'], 'playing': ['pl', '##a', '##y', '##i', '##n', '##g'], 'with': ['w', '##i', '##t', '##h'], 'students': ['s', '##t', '##ud', '##e', '##n', '##t', '##s']}\n",
      "added: ##ud-##e with score: 1.0\n",
      "updated splits {'play': ['pl', '##a', '##y'], 'cat': ['c', '##a', '##t'], 'is': ['is'], 'soccer': ['soccer'], 'playing': ['pl', '##a', '##y', '##i', '##n', '##g'], 'with': ['w', '##i', '##t', '##h'], 'students': ['s', '##t', '##ude', '##n', '##t', '##s']}\n",
      "added: ##n-##g with score: 0.5\n",
      "updated splits {'play': ['pl', '##a', '##y'], 'cat': ['c', '##a', '##t'], 'is': ['is'], 'soccer': ['soccer'], 'playing': ['pl', '##a', '##y', '##i', '##ng'], 'with': ['w', '##i', '##t', '##h'], 'students': ['s', '##t', '##ude', '##n', '##t', '##s']}\n"
     ]
    }
   ],
   "source": [
    "# training phase\n",
    "train_iter = 25\n",
    "while len(vocab) < train_iter:\n",
    "    dic = {}\n",
    "    top_key1, top_key2, top_val = '','', 0\n",
    "\n",
    "    # find the pair with highest score\n",
    "    for split in splits.values():\n",
    "        for index in range(0, len(split) - 1):\n",
    "            _score = Score(list(splits.values()), split[index], split[index+1])\n",
    "            if  _score > top_val:\n",
    "                top_key1 = split[index]\n",
    "                top_key2 = split[index+1]\n",
    "                top_val = _score\n",
    "\n",
    "    vocab.add(top_key1 + cleanHash(top_key2))\n",
    "    print(f'added: {top_key1}-{top_key2} with score: {top_val}')\n",
    "\n",
    "    # update splits\n",
    "    for w, split in splits.items():\n",
    "        splits[w] = combine_elements(split, top_key1, top_key2)\n",
    "    print(f'updated splits {splits}')"
   ]
  },
  {
   "cell_type": "code",
   "execution_count": 465,
   "metadata": {},
   "outputs": [
    {
     "name": "stdout",
     "output_type": "stream",
     "text": [
      "updated vocab: ['soccer', 'socce', 'socc', 'soc', 'so', 'pl', 'is', '##y', '##ude', '##ud', '##u', '##t', '##s', '##r', '##o', '##ng', '##n', '##l', '##i', '##h', '##g', '##e', '##d', '##c', '##a']\n"
     ]
    }
   ],
   "source": [
    "vocab = sorted(vocab, reverse= True)\n",
    "print(f'updated vocab: {vocab}')"
   ]
  },
  {
   "cell_type": "code",
   "execution_count": 466,
   "metadata": {},
   "outputs": [
    {
     "data": {
      "text/plain": [
       "['pl', '##a', '##y', '##i', '##ng']"
      ]
     },
     "execution_count": 466,
     "metadata": {},
     "output_type": "execute_result"
    }
   ],
   "source": [
    "string = 'playing'\n",
    "result = []\n",
    "\n",
    "while (i > 0):\n",
    "    i = len(string)\n",
    "    while string[:i] not in vocab:\n",
    "        i -= 1\n",
    "        if i == 0:\n",
    "            break\n",
    "    if string[:i] != '':\n",
    "        result.append(string[:i])\n",
    "    string = '##' + string[i:]\n",
    "\n",
    "result"
   ]
  },
  {
   "cell_type": "code",
   "execution_count": null,
   "metadata": {},
   "outputs": [],
   "source": []
  }
 ],
 "metadata": {
  "kernelspec": {
   "display_name": "Python 3",
   "language": "python",
   "name": "python3"
  },
  "language_info": {
   "codemirror_mode": {
    "name": "ipython",
    "version": 3
   },
   "file_extension": ".py",
   "mimetype": "text/x-python",
   "name": "python",
   "nbconvert_exporter": "python",
   "pygments_lexer": "ipython3",
   "version": "3.11.4"
  },
  "orig_nbformat": 4
 },
 "nbformat": 4,
 "nbformat_minor": 2
}
