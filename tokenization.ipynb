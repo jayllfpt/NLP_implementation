{
 "cells": [
  {
   "cell_type": "code",
   "execution_count": 2,
   "metadata": {},
   "outputs": [],
   "source": [
    "text = 'cat is cute!'"
   ]
  },
  {
   "cell_type": "code",
   "execution_count": 3,
   "metadata": {},
   "outputs": [
    {
     "data": {
      "text/plain": [
       "{'cat': 0, 'is': 1, 'cute!': 2}"
      ]
     },
     "execution_count": 3,
     "metadata": {},
     "output_type": "execute_result"
    }
   ],
   "source": [
    "# word-based tokenization\n",
    "Wdic = {val: key for key, val in enumerate(text.split())}\n",
    "Wdic"
   ]
  },
  {
   "cell_type": "code",
   "execution_count": 4,
   "metadata": {},
   "outputs": [
    {
     "data": {
      "text/plain": [
       "{'c': 7, 'a': 1, 't': 9, ' ': 6, 'i': 4, 's': 5, 'u': 8, 'e': 10, '!': 11}"
      ]
     },
     "execution_count": 4,
     "metadata": {},
     "output_type": "execute_result"
    }
   ],
   "source": [
    "# character-based tokenization\n",
    "Cdic = {val: key for key, val in enumerate(text)}\n",
    "Cdic"
   ]
  },
  {
   "cell_type": "code",
   "execution_count": 5,
   "metadata": {},
   "outputs": [
    {
     "name": "stdout",
     "output_type": "stream",
     "text": [
      "BPE Tokenization:\n",
      "Input Text: ChatGPT is a powerful language model.\n",
      "BPE Tokens: ['Chat', 'G', 'PT', 'Ġis', 'Ġa', 'Ġpowerful', 'Ġlanguage', 'Ġmodel', '.']\n",
      "\n",
      "WordPiece Tokenization:\n",
      "Input Text: ChatGPT is a powerful language model.\n",
      "WordPiece Tokens: ['chat', '##gp', '##t', 'is', 'a', 'powerful', 'language', 'model', '.']\n"
     ]
    }
   ],
   "source": [
    "from transformers import BertTokenizer, GPT2Tokenizer\n",
    "\n",
    "# Sample input text\n",
    "input_text = \"ChatGPT is a powerful language model.\"\n",
    "\n",
    "# BPE Tokenization\n",
    "\n",
    "bpe_tokenizer = GPT2Tokenizer.from_pretrained(\"gpt2\")  # You can choose different GPT-2 model sizes\n",
    "bpe_tokens = bpe_tokenizer.tokenize(input_text)\n",
    "\n",
    "\n",
    "# WordPiece Tokenization\n",
    "wordpiece_tokenizer = BertTokenizer.from_pretrained(\"bert-base-uncased\")  # You can choose different BERT models\n",
    "wordpiece_tokens = wordpiece_tokenizer.tokenize(input_text)\n",
    "\n",
    "print(\"BPE Tokenization:\")\n",
    "print(\"Input Text:\", input_text)\n",
    "print(\"BPE Tokens:\", bpe_tokens)\n",
    "print()\n",
    "print(\"WordPiece Tokenization:\")\n",
    "print(\"Input Text:\", input_text)\n",
    "print(\"WordPiece Tokens:\", wordpiece_tokens)\n"
   ]
  }
 ],
 "metadata": {
  "kernelspec": {
   "display_name": "Python 3",
   "language": "python",
   "name": "python3"
  },
  "language_info": {
   "codemirror_mode": {
    "name": "ipython",
    "version": 3
   },
   "file_extension": ".py",
   "mimetype": "text/x-python",
   "name": "python",
   "nbconvert_exporter": "python",
   "pygments_lexer": "ipython3",
   "version": "3.11.4"
  },
  "orig_nbformat": 4
 },
 "nbformat": 4,
 "nbformat_minor": 2
}
