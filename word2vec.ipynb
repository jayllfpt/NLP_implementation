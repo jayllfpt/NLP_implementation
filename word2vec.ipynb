{
 "cells": [
  {
   "cell_type": "code",
   "execution_count": 17,
   "metadata": {},
   "outputs": [],
   "source": [
    "import numpy as np"
   ]
  },
  {
   "cell_type": "code",
   "execution_count": 18,
   "metadata": {},
   "outputs": [],
   "source": [
    "sentences = [\"cat is cute\", \"dog is lovely\", \"shark is hungry\"]"
   ]
  },
  {
   "cell_type": "code",
   "execution_count": 19,
   "metadata": {},
   "outputs": [],
   "source": [
    "tokenized_sentences = [sentence.split() for sentence in sentences]"
   ]
  },
  {
   "cell_type": "code",
   "execution_count": 20,
   "metadata": {},
   "outputs": [],
   "source": [
    "# Initialize hyperparameters\n",
    "embedding_dim = 2\n",
    "learning_rate = 0.01\n",
    "epochs = 10000"
   ]
  },
  {
   "cell_type": "code",
   "execution_count": 21,
   "metadata": {},
   "outputs": [],
   "source": [
    "# Initialize word vectors randomly\n",
    "vocab = set(word for sentence in tokenized_sentences for word in sentence)\n",
    "word_to_index = {word: i for i, word in enumerate(vocab)}\n",
    "index_to_word = {i: word for word, i in word_to_index.items()}\n",
    "\n",
    "vocab_size = len(vocab)\n",
    "\n",
    "word_vectors = np.random.uniform(-1, 1, (vocab_size, embedding_dim))"
   ]
  },
  {
   "cell_type": "code",
   "execution_count": 22,
   "metadata": {},
   "outputs": [],
   "source": [
    "for epoch in range(epochs):\n",
    "    for sentence in tokenized_sentences:\n",
    "        for target_word_index, target_word in enumerate(sentence):\n",
    "            context_indices = [\n",
    "                target_word_index - 1,\n",
    "                target_word_index + 1,\n",
    "            ]  # Use a context window of size 1\n",
    "\n",
    "            for context_index in context_indices:\n",
    "                if 0 <= context_index < len(sentence):\n",
    "                    context_word = sentence[context_index]\n",
    "                    target_vector = word_vectors[word_to_index[target_word]]\n",
    "                    context_vector = word_vectors[word_to_index[context_word]]\n",
    "                    dot_product = np.dot(target_vector, context_vector)\n",
    "\n",
    "                    # Calculate the gradient and update word vectors\n",
    "                    grad = (1 / (1 + np.exp(-dot_product))) - 1\n",
    "                    word_vectors[word_to_index[target_word]] -= (\n",
    "                        learning_rate * grad * context_vector\n",
    "                    )\n",
    "                    word_vectors[word_to_index[context_word]] -= (\n",
    "                        learning_rate * grad * target_vector\n",
    "                    )\n",
    "    if (epoch % 20) == 0:\n",
    "        print(f'epoch: {epoch}')\n",
    "        for word, index in word_to_index.items():\n",
    "            print(f\"{word :10}: {word_vectors[index]}\")"
   ]
  },
  {
   "cell_type": "code",
   "execution_count": 23,
   "metadata": {},
   "outputs": [
    {
     "name": "stdout",
     "output_type": "stream",
     "text": [
      "is        : [2.05902283 4.05723731]\n",
      "lovely    : [1.63369273 1.35760616]\n",
      "cat       : [0.51992785 1.91362133]\n",
      "cute      : [1.41225291 1.49124996]\n",
      "shark     : [1.21067392 1.61917443]\n",
      "dog       : [0.67158539 1.85524332]\n",
      "hungry    : [0.12277986 2.13146343]\n"
     ]
    }
   ],
   "source": [
    "for word, index in word_to_index.items():\n",
    "    print(f\"{word :10}: {word_vectors[index]}\")"
   ]
  },
  {
   "cell_type": "code",
   "execution_count": 24,
   "metadata": {},
   "outputs": [
    {
     "data": {
      "image/png": "[encoded data removed]",
      "text/plain": [
       "<Figure size 640x480 with 1 Axes>"
      ]
     },
     "metadata": {},
     "output_type": "display_data"
    }
   ],
   "source": [
    "import matplotlib.pyplot as plt\n",
    "\n",
    "# Plot the points\n",
    "for word, index in word_to_index.items():\n",
    "    plt.plot(word_vectors[index][0], word_vectors[index][1], \"o\", label=word)\n",
    "\n",
    "# Label the axes\n",
    "plt.xlabel(\"x\")\n",
    "plt.ylabel(\"y\")\n",
    "\n",
    "# Show the plot\n",
    "plt.legend()\n",
    "plt.show()"
   ]
  }
 ],
 "metadata": {
  "kernelspec": {
   "display_name": "Python 3",
   "language": "python",
   "name": "python3"
  },
  "language_info": {
   "codemirror_mode": {
    "name": "ipython",
    "version": 3
   },
   "file_extension": ".py",
   "mimetype": "text/x-python",
   "name": "python",
   "nbconvert_exporter": "python",
   "pygments_lexer": "ipython3",
   "version": "3.11.4"
  },
  "orig_nbformat": 4
 },
 "nbformat": 4,
 "nbformat_minor": 2
}
