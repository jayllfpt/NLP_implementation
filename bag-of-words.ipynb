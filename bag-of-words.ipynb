{
 "cells": [
  {
   "cell_type": "code",
   "execution_count": 15,
   "metadata": {},
   "outputs": [],
   "source": [
    "texts = [\"cat is cute, cat love playing with humans, cat does not ask questions to humans.\"]"
   ]
  },
  {
   "cell_type": "code",
   "execution_count": 16,
   "metadata": {},
   "outputs": [
    {
     "data": {
      "text/plain": [
       "{'cat': 3,\n",
       " 'is': 1,\n",
       " 'cute': 1,\n",
       " 'love': 1,\n",
       " 'playing': 1,\n",
       " 'with': 1,\n",
       " 'humans': 2,\n",
       " 'does': 1,\n",
       " 'not': 1,\n",
       " 'ask': 1,\n",
       " 'questions': 1,\n",
       " 'to': 1}"
      ]
     },
     "execution_count": 16,
     "metadata": {},
     "output_type": "execute_result"
    }
   ],
   "source": [
    "dic = {}\n",
    "\n",
    "for text in texts:\n",
    "    words = text.split()\n",
    "    for word in words:\n",
    "            # Remove punctuation and convert to lowercase for consistency\n",
    "            cleaned_word = word.strip('.,!?').lower()\n",
    "            # Update the word count in the dictionary\n",
    "            if cleaned_word in dic:\n",
    "                dic[cleaned_word] += 1\n",
    "            else:\n",
    "                dic[cleaned_word] = 1\n",
    "\n",
    "dic"
   ]
  }
 ],
 "metadata": {
  "kernelspec": {
   "display_name": "Python 3",
   "language": "python",
   "name": "python3"
  },
  "language_info": {
   "codemirror_mode": {
    "name": "ipython",
    "version": 3
   },
   "file_extension": ".py",
   "mimetype": "text/x-python",
   "name": "python",
   "nbconvert_exporter": "python",
   "pygments_lexer": "ipython3",
   "version": "3.11.4"
  },
  "orig_nbformat": 4
 },
 "nbformat": 4,
 "nbformat_minor": 2
}
