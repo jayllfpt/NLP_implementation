{
 "cells": [
  {
   "cell_type": "code",
   "execution_count": 1,
   "metadata": {},
   "outputs": [],
   "source": [
    "texts = [\"cat is cute\"]\n",
    "vocabs = ['cat', 'dog', 'is', 'are', 'cute', 'ugly']"
   ]
  },
  {
   "cell_type": "code",
   "execution_count": 2,
   "metadata": {},
   "outputs": [
    {
     "data": {
      "text/plain": [
       "{'cat': 1, 'is': 1, 'cute': 1}"
      ]
     },
     "execution_count": 2,
     "metadata": {},
     "output_type": "execute_result"
    }
   ],
   "source": [
    "dic = {}\n",
    "\n",
    "for text in texts:\n",
    "    words = text.split()\n",
    "    for word in words:\n",
    "            # Remove punctuation and convert to lowercase for consistency\n",
    "            cleaned_word = word.strip('.,!?').lower()\n",
    "            # Update the word count in the dictionary\n",
    "            if cleaned_word in dic:\n",
    "                dic[cleaned_word] += 1\n",
    "            else:\n",
    "                dic[cleaned_word] = 1\n",
    "\n",
    "dic"
   ]
  },
  {
   "cell_type": "code",
   "execution_count": 3,
   "metadata": {},
   "outputs": [
    {
     "data": {
      "text/plain": [
       "[1, 0, 1, 0, 1, 0]"
      ]
     },
     "execution_count": 3,
     "metadata": {},
     "output_type": "execute_result"
    }
   ],
   "source": [
    "bow = []\n",
    "for word in vocabs:\n",
    "    if word in dic:\n",
    "        bow.append(dic[word])\n",
    "    else:\n",
    "        bow.append(0)\n",
    "bow"
   ]
  }
 ],
 "metadata": {
  "kernelspec": {
   "display_name": "Python 3",
   "language": "python",
   "name": "python3"
  },
  "language_info": {
   "codemirror_mode": {
    "name": "ipython",
    "version": 3
   },
   "file_extension": ".py",
   "mimetype": "text/x-python",
   "name": "python",
   "nbconvert_exporter": "python",
   "pygments_lexer": "ipython3",
   "version": "3.11.4"
  },
  "orig_nbformat": 4
 },
 "nbformat": 4,
 "nbformat_minor": 2
}
