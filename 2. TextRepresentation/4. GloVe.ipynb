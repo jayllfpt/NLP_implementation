{
 "cells": [
  {
   "cell_type": "code",
   "execution_count": 9,
   "metadata": {},
   "outputs": [],
   "source": [
    "import numpy as np\n",
    "\n",
    "# Sample corpus\n",
    "corpus = [\"cat is cute\", \"dog is lovely\", \"shark is hungry\"]"
   ]
  },
  {
   "cell_type": "code",
   "execution_count": 10,
   "metadata": {},
   "outputs": [
    {
     "data": {
      "text/plain": [
       "{'cat': 0, 'is': 1, 'cute': 2, 'dog': 3, 'lovely': 4, 'shark': 5, 'hungry': 6}"
      ]
     },
     "execution_count": 10,
     "metadata": {},
     "output_type": "execute_result"
    }
   ],
   "source": [
    "# Create a vocabulary and word-to-index mapping\n",
    "vocab = {}\n",
    "index = 0\n",
    "for sentence in corpus:\n",
    "    words = sentence.lower().split()\n",
    "    for word in words:\n",
    "        if word not in vocab:\n",
    "            vocab[word] = index\n",
    "            index += 1\n",
    "\n",
    "vocab"
   ]
  },
  {
   "cell_type": "code",
   "execution_count": 11,
   "metadata": {},
   "outputs": [
    {
     "data": {
      "text/plain": [
       "array([[0., 1., 0., 0., 0., 0., 0.],\n",
       "       [1., 0., 1., 1., 1., 1., 1.],\n",
       "       [0., 1., 0., 0., 0., 0., 0.],\n",
       "       [0., 1., 0., 0., 0., 0., 0.],\n",
       "       [0., 1., 0., 0., 0., 0., 0.],\n",
       "       [0., 1., 0., 0., 0., 0., 0.],\n",
       "       [0., 1., 0., 0., 0., 0., 0.]])"
      ]
     },
     "execution_count": 11,
     "metadata": {},
     "output_type": "execute_result"
    }
   ],
   "source": [
    "# Initialize co-occurrence matrix\n",
    "matrix_size = len(vocab)\n",
    "co_occurrence_matrix = np.zeros((matrix_size, matrix_size))\n",
    "\n",
    "# Define context window size\n",
    "window_size = 1\n",
    "\n",
    "# Build co-occurrence matrix\n",
    "for sentence in corpus:\n",
    "    words = sentence.lower().split()\n",
    "    for i in range(len(words)):\n",
    "        target_word_idx = vocab[words[i]]\n",
    "        for j in range(max(0, i - window_size), min(i + window_size + 1, len(words))):\n",
    "            if i != j:\n",
    "                context_word_idx = vocab[words[j]]\n",
    "                co_occurrence_matrix[target_word_idx][context_word_idx] += 1\n",
    "\n",
    "co_occurrence_matrix"
   ]
  },
  {
   "cell_type": "code",
   "execution_count": 12,
   "metadata": {},
   "outputs": [],
   "source": [
    "# Initialize word vectors randomly\n",
    "embedding_dim = 2\n",
    "word_vectors = np.random.rand(matrix_size, embedding_dim)"
   ]
  },
  {
   "cell_type": "code",
   "execution_count": 13,
   "metadata": {},
   "outputs": [
    {
     "name": "stdout",
     "output_type": "stream",
     "text": [
      "cat: [0.65468484 0.73286507]\n",
      "is: [-0.16379783  0.16975301]\n",
      "cute: [0.31266592 0.5434629 ]\n",
      "dog: [0.7577414  0.82018161]\n",
      "lovely: [0.68988391 0.68766746]\n",
      "shark: [0.20137665 0.41363566]\n",
      "hungry: [0.92029521 0.43570329]\n"
     ]
    }
   ],
   "source": [
    "# Hyperparameters\n",
    "learning_rate = 0.01\n",
    "epochs = 100\n",
    "\n",
    "# Training GloVe (Gradient Descent)\n",
    "for _ in range(epochs):\n",
    "    for i in range(matrix_size):\n",
    "        for j in range(matrix_size):\n",
    "            if co_occurrence_matrix[i][j] > 0:\n",
    "                error = np.dot(word_vectors[i], word_vectors[j]) - np.log(co_occurrence_matrix[i][j])\n",
    "                gradient = 2 * error * word_vectors[j]\n",
    "                word_vectors[i] -= learning_rate * gradient\n",
    "\n",
    "# Access the word vectors\n",
    "for word, idx in vocab.items():\n",
    "    print(f\"{word}: {word_vectors[idx]}\")\n"
   ]
  },
  {
   "cell_type": "code",
   "execution_count": 14,
   "metadata": {},
   "outputs": [
    {
     "data": {
      "image/png": "[encoded data removed]",
      "text/plain": [
       "<Figure size 640x480 with 1 Axes>"
      ]
     },
     "metadata": {},
     "output_type": "display_data"
    }
   ],
   "source": [
    "import matplotlib.pyplot as plt\n",
    "\n",
    "# Plot the points\n",
    "for word, index in vocab.items():\n",
    "    plt.plot(word_vectors[index][0], word_vectors[index][1], \"o\", label=word)\n",
    "\n",
    "# Label the axes\n",
    "plt.xlabel(\"x\")\n",
    "plt.ylabel(\"y\")\n",
    "\n",
    "# Show the plot\n",
    "plt.legend()\n",
    "plt.show()"
   ]
  }
 ],
 "metadata": {
  "kernelspec": {
   "display_name": "Python 3",
   "language": "python",
   "name": "python3"
  },
  "language_info": {
   "codemirror_mode": {
    "name": "ipython",
    "version": 3
   },
   "file_extension": ".py",
   "mimetype": "text/x-python",
   "name": "python",
   "nbconvert_exporter": "python",
   "pygments_lexer": "ipython3",
   "version": "3.11.4"
  },
  "orig_nbformat": 4
 },
 "nbformat": 4,
 "nbformat_minor": 2
}
