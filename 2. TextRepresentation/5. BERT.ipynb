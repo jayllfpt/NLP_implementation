{
 "cells": [
  {
   "cell_type": "code",
   "execution_count": 5,
   "metadata": {},
   "outputs": [],
   "source": [
    "import torch\n",
    "from transformers import BertTokenizer, BertModel\n",
    "\n",
    "# Load the pre-trained BERT tokenizer and model\n",
    "model_name = 'bert-base-uncased'\n",
    "tokenizer = BertTokenizer.from_pretrained(model_name)\n",
    "model = BertModel.from_pretrained(model_name)"
   ]
  },
  {
   "cell_type": "code",
   "execution_count": 6,
   "metadata": {},
   "outputs": [
    {
     "data": {
      "text/plain": [
       "tensor([  101,  4937,  2003, 10140,   102])"
      ]
     },
     "execution_count": 6,
     "metadata": {},
     "output_type": "execute_result"
    }
   ],
   "source": [
    "# Text to be encoded\n",
    "text = \"cat is cute\"\n",
    "\n",
    "# Tokenize the text\n",
    "tokens = tokenizer.tokenize(text)\n",
    "\n",
    "# Convert tokens to token IDs\n",
    "input_ids = tokenizer.convert_tokens_to_ids(tokens)\n",
    "\n",
    "# Add special tokens [CLS] and [SEP] for BERT\n",
    "input_ids = [tokenizer.cls_token_id] + input_ids + [tokenizer.sep_token_id]\n",
    "\n",
    "# Convert the input_ids list to a tensor\n",
    "input_ids = torch.tensor(input_ids)\n",
    "input_ids"
   ]
  },
  {
   "cell_type": "code",
   "execution_count": 7,
   "metadata": {},
   "outputs": [
    {
     "name": "stdout",
     "output_type": "stream",
     "text": [
      "tensor([[[ 0.0119,  0.0805,  0.0208,  ..., -0.1908,  0.1084,  0.2260],\n",
      "         [-0.0158, -0.3965,  0.5580,  ..., -0.3887,  0.6841,  0.6038],\n",
      "         [-0.4054, -0.2355, -0.0674,  ..., -0.0769, -0.0490,  0.8397],\n",
      "         [-0.5243, -0.6484, -0.3189,  ...,  0.5408,  0.4001,  0.0300],\n",
      "         [ 0.7199,  0.0324, -0.1972,  ...,  0.1617, -0.5833, -0.2165]]])\n"
     ]
    }
   ],
   "source": [
    "# Get the BERT embeddings\n",
    "with torch.no_grad():\n",
    "    outputs = model(input_ids.unsqueeze(0))  # Batch size of 1\n",
    "\n",
    "# The BERT model returns a tuple, and we're interested in the hidden states (output[0])\n",
    "bert_embeddings = outputs[0]\n",
    "\n",
    "# Now, bert_embeddings contains the contextual embeddings for the input text\n",
    "print(bert_embeddings)\n"
   ]
  }
 ],
 "metadata": {
  "kernelspec": {
   "display_name": "Python 3",
   "language": "python",
   "name": "python3"
  },
  "language_info": {
   "codemirror_mode": {
    "name": "ipython",
    "version": 3
   },
   "file_extension": ".py",
   "mimetype": "text/x-python",
   "name": "python",
   "nbconvert_exporter": "python",
   "pygments_lexer": "ipython3",
   "version": "3.11.4"
  },
  "orig_nbformat": 4
 },
 "nbformat": 4,
 "nbformat_minor": 2
}
