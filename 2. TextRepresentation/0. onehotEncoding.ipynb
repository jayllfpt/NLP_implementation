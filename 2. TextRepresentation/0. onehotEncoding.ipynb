{
 "cells": [
  {
   "cell_type": "code",
   "execution_count": 26,
   "metadata": {},
   "outputs": [],
   "source": [
    "import numpy as np\n",
    "# sentences = ['cat is cute', 'dog ask questions', 'cat doest ask questions']\n",
    "sentences = ['cat is cute']"
   ]
  },
  {
   "cell_type": "code",
   "execution_count": 27,
   "metadata": {},
   "outputs": [
    {
     "data": {
      "text/plain": [
       "{'cat', 'cute', 'is'}"
      ]
     },
     "execution_count": 27,
     "metadata": {},
     "output_type": "execute_result"
    }
   ],
   "source": [
    "vocab = set()\n",
    "for sentence in sentences:\n",
    "    words = sentence.lower().split()\n",
    "    for word in words:\n",
    "        vocab.add(word)\n",
    "    \n",
    "vocab"
   ]
  },
  {
   "cell_type": "code",
   "execution_count": 28,
   "metadata": {},
   "outputs": [
    {
     "data": {
      "text/plain": [
       "{'cute': 0, 'cat': 1, 'is': 2}"
      ]
     },
     "execution_count": 28,
     "metadata": {},
     "output_type": "execute_result"
    }
   ],
   "source": [
    "word2int = {word: i for i, word in enumerate(vocab)}\n",
    "word2int"
   ]
  },
  {
   "cell_type": "code",
   "execution_count": 29,
   "metadata": {},
   "outputs": [],
   "source": [
    "vec = []\n",
    "for sentence in sentences:\n",
    "    words = sentence.lower().split()\n",
    "    sentenceVec = []\n",
    "    for word in words:\n",
    "        binaryVec = np.zeros(len(vocab))\n",
    "        binaryVec[word2int[word]] = 1\n",
    "        sentenceVec.append(binaryVec)\n",
    "    vec.append(sentenceVec)"
   ]
  },
  {
   "cell_type": "code",
   "execution_count": 30,
   "metadata": {},
   "outputs": [
    {
     "name": "stdout",
     "output_type": "stream",
     "text": [
      "Sentences 1:\n",
      "cat       : [0. 1. 0.]\n",
      "is        : [0. 0. 1.]\n",
      "cute      : [1. 0. 0.]\n"
     ]
    }
   ],
   "source": [
    "for i in range(len(sentences)):\n",
    "    print(f\"Sentences {i + 1}:\")\n",
    "    for j in range(len(vec[i])):\n",
    "        print(f\"{sentences[i].split()[j] :10}: {vec[i][j]}\")"
   ]
  }
 ],
 "metadata": {
  "kernelspec": {
   "display_name": "Python 3",
   "language": "python",
   "name": "python3"
  },
  "language_info": {
   "codemirror_mode": {
    "name": "ipython",
    "version": 3
   },
   "file_extension": ".py",
   "mimetype": "text/x-python",
   "name": "python",
   "nbconvert_exporter": "python",
   "pygments_lexer": "ipython3",
   "version": "3.11.4"
  },
  "orig_nbformat": 4
 },
 "nbformat": 4,
 "nbformat_minor": 2
}
